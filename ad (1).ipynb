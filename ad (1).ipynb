{
  "nbformat": 4,
  "nbformat_minor": 0,
  "metadata": {
    "colab": {
      "provenance": []
    },
    "kernelspec": {
      "name": "python3",
      "display_name": "Python 3"
    },
    "language_info": {
      "name": "python"
    }
  },
  "cells": [
    {
      "cell_type": "code",
      "execution_count": 1,
      "metadata": {
        "colab": {
          "base_uri": "https://localhost:8080/"
        },
        "id": "FSTpxUUncisT",
        "outputId": "164d138d-17f2-4b1a-88ed-a887dd9c161e"
      },
      "outputs": [
        {
          "name": "stdout",
          "output_type": "stream",
          "text": [
            "yhis is a Test SenteXe\n"
          ]
        }
      ],
      "source": [
        "x = input()\n"
      ]
    },
    {
      "cell_type": "code",
      "source": [
        "end_words = ['esc','stop','exit','quit']"
      ],
      "metadata": {
        "id": "BRHWijD3cxF_"
      },
      "execution_count": 2,
      "outputs": []
    },
    {
      "cell_type": "code",
      "source": [
        "def lowercase(sentence):\n",
        "  return sentence.lower()"
      ],
      "metadata": {
        "id": "yd50bDfkc_1t"
      },
      "execution_count": 3,
      "outputs": []
    },
    {
      "cell_type": "code",
      "source": [
        "def uppercaseerrcase(sentence):\n",
        "  return sentence.upper()"
      ],
      "metadata": {
        "id": "pQxpC3iRdXcI"
      },
      "execution_count": 5,
      "outputs": []
    },
    {
      "cell_type": "code",
      "source": [
        "x = input()\n",
        "while x not in end_words:\n",
        "  chice = input()\n",
        "  if choice == 1:\n",
        "    print(lowercase(x))\n",
        "  elif choice == 2:\n",
        "      print(uppercaseerrcase(x))\n",
        "  else:\n",
        "    print('invalid choice')\n",
        "  x = input()\n",
        "\n"
      ],
      "metadata": {
        "colab": {
          "base_uri": "https://localhost:8080/"
        },
        "id": "IYtfTHhNeVar",
        "outputId": "0c3a9554-2ab6-406f-83a5-a0e2b23a34a5"
      },
      "execution_count": null,
      "outputs": [
        {
          "name": "stdout",
          "output_type": "stream",
          "text": [
            "gdytf ygyfgu\n"
          ]
        }
      ]
    }
  ]
}